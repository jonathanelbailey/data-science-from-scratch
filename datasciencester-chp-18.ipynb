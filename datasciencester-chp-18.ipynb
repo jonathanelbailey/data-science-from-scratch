{
 "cells": [
  {
   "cell_type": "markdown",
   "metadata": {},
   "source": [
    "# Neural Networks"
   ]
  },
  {
   "cell_type": "markdown",
   "metadata": {},
   "source": [
    "An artificial neural network is a predictive model motivated by the way the brain operates.  The brain is a collection of neurons wired together, and each neuron looks at the outputs of the other neurons that feed into it, does a calculation, and then either fires if the calculation exceeds some threshold or doesn't if the condition isn't met.\n",
    "\n",
    "Artificial neural networks consist of artificial neurons, which perform similar calculations over their inputs.  Neural networks can solve a wide variety of problems like handwriting recognition and face detection.  They are used quite heavily in deep learning, which is one of the trendiest fields of data science.  However, most neural networks are \"black boxes\", meaning that inspecting their detail doesn't giove you much understanding of how they are solving a problem.  Large neural networks can be difficult to train, and for most problems, they are probably not the right choice.\n",
    "\n",
    "Pretty much the simplest neural network is the *perceptron*.  Which approximates a single neuron with *n* binary inputs.  It computes a weighted sum of its inputs and \"fires\" if that weighted sum is zero or greater:"
   ]
  },
  {
   "cell_type": "code",
   "execution_count": 1,
   "metadata": {},
   "outputs": [],
   "source": [
    "from collections import Counter\n",
    "from functools import partial\n",
    "from code_python3.linear_algebra import dot\n",
    "import math, random\n",
    "import matplotlib\n",
    "import matplotlib.pyplot as plt\n",
    "\n",
    "def step_function(x):\n",
    "    return 1 if x >= 0 else 0\n",
    "\n",
    "def perceptron_output(weights, bias, x):\n",
    "    \"\"\"returns 1 if the perceptron 'fires', 0 if not\"\"\"\n",
    "    return step_function(dot(weights, x) + bias)"
   ]
  },
  {
   "cell_type": "markdown",
   "metadata": {},
   "source": [
    "The perceptron is simply distinguishing between the half spaces separated by the hyperplane of points `x` for which:\n",
    "\n",
    "```python\n",
    "dot(weights,x) + bias = 0\n",
    "```\n",
    "\n",
    "With properly chosen weights, perceptrons can solve a number of simple problems.  For example, we can create an AND gate which returns 1 if both its inputs are 1 but returns 0 if one if its inputs is 0.  It can look like:\n",
    "\n",
    "```python\n",
    "weights = [2,2]\n",
    "bias = -3\n",
    "```\n",
    "\n",
    "If both inputs are 1, the `calculation` equals 2 + 2 - 3 = 1, and the output is 1.  If only one of the inputs are 1, the `calculation` equals 2 + 0 - 3 = -1, and the output is 0.  Similarly, we could build an OR gate with:\n",
    "\n",
    "```python\n",
    "weights = [2.2]\n",
    "bias = -1\n",
    "```\n",
    "\n",
    "and we could build a NOT gate (which has one input and converts 1 to 0 and 0 to 1) with:\n",
    "\n",
    "```python\n",
    "weights = [-2]\n",
    "bias = 1\n",
    "```\n",
    "\n",
    "However, there are some problems that simply can't be solved by a single perceptron.  For example, no matter how hard you try, you cannot use a perceptron to build an XOR gate that outputs 1 if exactly one of its inputs is 1 and 0 otherwise.  This is where we start needing more complicated neural networks.  Of course, you don't need to approximate a neuron in order to build a logic gate:\n",
    "\n",
    "```python\n",
    "and_gate = min\n",
    "or_gate = max\n",
    "xor_gate = lambda x,y: 0 if x == y else 1\n",
    "```\n",
    "\n",
    "Like real neurons, artificial neurons start getting more interesting when you start connecting them together.\n",
    "\n",
    "*Feed forward neural networks* consist of discrete layers of neurons, each connected to the next.  This typically entails an input layer, one or more \"hidden layers\", each of which consists of neurons that take the outputs of the previous layer, performs some calculation, and passes the result to the next layer, and an output layer which produces the final outputs.  Just like the perceptron, each noninput neuron has a weight corresponding to each of its inputs and a bias.  To make our representation simpler, we'll add the bias to the end of our weights vector and give each neuron a bias input that always equals 1.\n",
    "\n",
    "As with the perceptron, for each neuron, we'll sum up the products of its inputs and its weights.  But here, rather than outputing the `step_function` applied to that product, we'll output a smooth approximation of the step function.  In particular, we'll use the `sigmoid` function:"
   ]
  },
  {
   "cell_type": "code",
   "execution_count": 2,
   "metadata": {},
   "outputs": [],
   "source": [
    "def sigmoid(t):\n",
    "    return 1 / (1 + math.exp(-t))"
   ]
  },
  {
   "cell_type": "markdown",
   "metadata": {},
   "source": [
    "Why use `sigmoid` instead of the simpler `step_function`?  In order to train a neural network, we'll need to use calculus, and in order to use calculus, we need smooth functions.  The step function isn't even continuous, and sigmoid is a good smooth approximation of it.  We then calculate the output as:"
   ]
  },
  {
   "cell_type": "code",
   "execution_count": 3,
   "metadata": {},
   "outputs": [],
   "source": [
    "def neuron_output(weights, inputs):\n",
    "    return sigmoid(dot(weights, inputs))"
   ]
  },
  {
   "cell_type": "markdown",
   "metadata": {},
   "source": [
    "Given this function, we can represent a neuron simply as a list of weights whose length is one more than the number of inputs to that neuron because of the bias weight.  Then we can represent a neural network as a list of noninput *layers*, where each layer is just a list of the neurons in that layer.  That is, we'll represent a neural network as a list (layers) of lists (neurons) of lists (weights).  Given such a representation, using the neural network is quite simple:"
   ]
  },
  {
   "cell_type": "code",
   "execution_count": 4,
   "metadata": {},
   "outputs": [],
   "source": [
    "def feed_forward(neural_network, input_vector):\n",
    "    \"\"\"takes in a neural network (represented as a list of lists of lists of weights)\n",
    "    and returns the output from forward-propagating the input\"\"\"\n",
    "\n",
    "    outputs = []\n",
    "\n",
    "    for layer in neural_network:\n",
    "\n",
    "        input_with_bias = input_vector + [1]             # add a bias input\n",
    "        output = [neuron_output(neuron, input_with_bias) # compute the output\n",
    "                  for neuron in layer]                   # for this layer\n",
    "        outputs.append(output)                           # and remember it\n",
    "\n",
    "        # the input to the next layer is the output of this one\n",
    "        input_vector = output\n",
    "\n",
    "    return outputs"
   ]
  },
  {
   "cell_type": "markdown",
   "metadata": {},
   "source": [
    "Now it's easy to build the XOR gate that we couldn't build with a single perceptron.  We just need to scale the weights up so that the neuron outputs are either really close to 0 or really close to 1:"
   ]
  },
  {
   "cell_type": "code",
   "execution_count": 5,
   "metadata": {},
   "outputs": [
    {
     "name": "stdout",
     "output_type": "stream",
     "text": [
      "0 0 [9.38314668300676e-14]\n",
      "0 1 [0.9999999999999059]\n",
      "1 0 [0.9999999999999059]\n",
      "1 1 [9.383146683006828e-14]\n"
     ]
    }
   ],
   "source": [
    "xor_network = [\n",
    "    [\n",
    "        [20, 20, -30],   # 'and' neuron\n",
    "        [20, 20, -10]    # 'or' neuron\n",
    "    ],\n",
    "    # output layer\n",
    "    [\n",
    "        [-60, 60, -30]\n",
    "    ]\n",
    "]\n",
    "\n",
    "for x in [0,1]:\n",
    "    for y in [0,1]:\n",
    "        # feed forward produces the outputs of every neuron\n",
    "        # feed forward[-1] is the outputs of the output-layer neurons\n",
    "        print(x, y, feed_forward(xor_network, [x, y])[-1])"
   ]
  },
  {
   "cell_type": "markdown",
   "metadata": {},
   "source": [
    "By using a hidden layer, we are able to feed the output of an \"and\" neuron and the output of an \"or\" neuron into a \"second input but not first input\" neuron.  The result is a network that performs \"or, but not and\", which is precisely XOR.\n",
    "\n",
    "Usually we don't build neural networks by hand.  This is in part because we use them to solve much bigger problems.  Instead, we use data to *train* neural networks.  One popular approach is an algorithm called *backpropagation* that has similiaries to the gradient descent algorithm from previous chapters.\n",
    "\n",
    "Imagine we have a training set that consists of input vectors and corresponding target output vectors.  For example, in our previous `xor_network` example, the input vector `[1,0]` corresponded to the target output `[1]`.  And imagine that our network has some set of weights.  We then adjust the weight using the following algorithm:\n",
    "\n",
    "1. Run `feed_forward` on an input vector to produce the output of all the neurons in the network.\n",
    "2. This results in an error for each output neuron -- the difference between ints output and its target.\n",
    "3. Compute the gradient of this error as a function of the neuron's weights, and adjust its weights in the direction that most decreases the error.\n",
    "4. \"Propagate\" these output errors backward to infer errors for the hidden layer.\n",
    "5. Compute the gradients of these errors and adjust the hidden layer's weights in the same manner.\n",
    "\n",
    "Typically we run this algorithm many timesa for our entire training set until the network converges:"
   ]
  },
  {
   "cell_type": "code",
   "execution_count": 6,
   "metadata": {},
   "outputs": [],
   "source": [
    "def backpropagate(network, input_vector, target):\n",
    "\n",
    "    hidden_outputs, outputs = feed_forward(network, input_vector)\n",
    "\n",
    "    # the output * (1 - output) is from the derivative of sigmoid\n",
    "    output_deltas = [output * (1 - output) * (output - target[i])\n",
    "                     for i, output in enumerate(outputs)]\n",
    "\n",
    "    # adjust weights for output layer (network[-1])\n",
    "    for i, output_neuron in enumerate(network[-1]):\n",
    "        for j, hidden_output in enumerate(hidden_outputs + [1]):\n",
    "            output_neuron[j] -= output_deltas[i] * hidden_output\n",
    "\n",
    "    # back-propagate errors to hidden layer\n",
    "    hidden_deltas = [hidden_output * (1 - hidden_output) *\n",
    "                      dot(output_deltas, [n[i] for n in network[-1]])\n",
    "                     for i, hidden_output in enumerate(hidden_outputs)]\n",
    "\n",
    "    # adjust weights for hidden layer (network[0])\n",
    "    for i, hidden_neuron in enumerate(network[0]):\n",
    "        for j, input in enumerate(input_vector + [1]):\n",
    "            hidden_neuron[j] -= hidden_deltas[i] * input"
   ]
  },
  {
   "cell_type": "markdown",
   "metadata": {},
   "source": [
    "This is pretty much doing the same thing as if you explicitly wrote the squared error as a function of the weights and used the `minimize_stochastic` function we built previously.\n",
    "\n",
    "Our neural network wants an input to be a vector of numbers.  So we'll transform each image to a vector length 25, whose elements are either 1 or 0.  We'll want our output to indicate which digit the neural network thinks it is, so we'll need 10 outputs.  Then, assuming our inputs are correctly ordered from 0 to 9, our targets will be:"
   ]
  },
  {
   "cell_type": "code",
   "execution_count": 7,
   "metadata": {},
   "outputs": [],
   "source": [
    "raw_digits = [\n",
    "      \"\"\"11111\n",
    "         1...1\n",
    "         1...1\n",
    "         1...1\n",
    "         11111\"\"\",\n",
    "\n",
    "      \"\"\"..1..\n",
    "         ..1..\n",
    "         ..1..\n",
    "         ..1..\n",
    "         ..1..\"\"\",\n",
    "\n",
    "      \"\"\"11111\n",
    "         ....1\n",
    "         11111\n",
    "         1....\n",
    "         11111\"\"\",\n",
    "\n",
    "      \"\"\"11111\n",
    "         ....1\n",
    "         11111\n",
    "         ....1\n",
    "         11111\"\"\",\n",
    "\n",
    "      \"\"\"1...1\n",
    "         1...1\n",
    "         11111\n",
    "         ....1\n",
    "         ....1\"\"\",\n",
    "\n",
    "      \"\"\"11111\n",
    "         1....\n",
    "         11111\n",
    "         ....1\n",
    "         11111\"\"\",\n",
    "\n",
    "      \"\"\"11111\n",
    "         1....\n",
    "         11111\n",
    "         1...1\n",
    "         11111\"\"\",\n",
    "\n",
    "      \"\"\"11111\n",
    "         ....1\n",
    "         ....1\n",
    "         ....1\n",
    "         ....1\"\"\",\n",
    "\n",
    "      \"\"\"11111\n",
    "         1...1\n",
    "         11111\n",
    "         1...1\n",
    "         11111\"\"\",\n",
    "\n",
    "      \"\"\"11111\n",
    "         1...1\n",
    "         11111\n",
    "         ....1\n",
    "         11111\"\"\"]\n",
    "\n",
    "def make_digit(raw_digit):\n",
    "    return [1 if c == '1' else 0\n",
    "            for row in raw_digit.split(\"\\n\")\n",
    "            for c in row.strip()]\n",
    "\n",
    "inputs = list(map(make_digit, raw_digits))\n",
    "\n",
    "targets = [[1 if i == j else 0 for i in range(10)]\n",
    "           for j in range(10)]"
   ]
  },
  {
   "cell_type": "markdown",
   "metadata": {},
   "source": [
    "At which point we're ready to build our neural network:"
   ]
  },
  {
   "cell_type": "code",
   "execution_count": 8,
   "metadata": {},
   "outputs": [],
   "source": [
    "random.seed(0)   # to get repeatable results\n",
    "input_size = 25  # each input is a vector of length 25\n",
    "num_hidden = 5   # we'll have 5 neurons in the hidden layer\n",
    "output_size = 10 # we need 10 outputs for each input\n",
    "\n",
    "# each hidden neuron has one weight per input, plus a bias weight\n",
    "hidden_layer = [[random.random() for __ in range(input_size + 1)]\n",
    "                for __ in range(num_hidden)]\n",
    "\n",
    "# each output neuron has one weight per hidden neuron, plus a bias weight\n",
    "output_layer = [[random.random() for __ in range(num_hidden + 1)]\n",
    "                for __ in range(output_size)]\n",
    "\n",
    "# the network starts out with random weights\n",
    "network = [hidden_layer, output_layer]"
   ]
  },
  {
   "cell_type": "markdown",
   "metadata": {},
   "source": [
    "And we can train it with the backpropagation algorithm:"
   ]
  },
  {
   "cell_type": "code",
   "execution_count": 9,
   "metadata": {},
   "outputs": [
    {
     "data": {
      "text/plain": [
       "[0.024382157616321443,\n",
       " 4.684195501636839e-06,\n",
       " 1.6849128340309735e-11,\n",
       " 0.0180391464806713,\n",
       " 0.0007894951820384888,\n",
       " 5.409231346799728e-10,\n",
       " 4.3230780100206996e-08,\n",
       " 0.9698049702048102,\n",
       " 6.704747602428434e-09,\n",
       " 1.3671928428594845e-08]"
      ]
     },
     "execution_count": 9,
     "metadata": {},
     "output_type": "execute_result"
    }
   ],
   "source": [
    "# 10,000 iterations seems enough to converge\n",
    "for __ in range(10000):\n",
    "    for input_vector, target_vector in zip(inputs, targets):\n",
    "        backpropagate(network, input_vector, target_vector)\n",
    "        \n",
    "def predict(input):\n",
    "    return feed_forward(network, input)[-1]\n",
    "\n",
    "predict(inputs[7])"
   ]
  },
  {
   "cell_type": "markdown",
   "metadata": {},
   "source": [
    "WHich indicates that the digit 7 output neuron produces 0.97, while all the other output neurons produce very small numbers.  Although the network's operation is not exactly transparent, we can inspect the weights of the hidden layers to get a sense of what they are recognizing, in particular, we can plot the weights of each neuron as a 5x5 grid corresponding to the 5x5 inputs:"
   ]
  },
  {
   "cell_type": "code",
   "execution_count": 13,
   "metadata": {},
   "outputs": [
    {
     "name": "stdout",
     "output_type": "stream",
     "text": [
      "0 [0.96, 0.0, 0.0, 0.0, 0.0, 0.0, 0.0, 0.02, 0.03, 0.0]\n",
      "1 [0.0, 0.96, 0.03, 0.02, 0.0, 0.0, 0.0, 0.0, 0.0, 0.0]\n",
      "2 [0.0, 0.02, 0.96, 0.0, 0.0, 0.03, 0.0, 0.0, 0.0, 0.0]\n",
      "3 [0.0, 0.03, 0.0, 0.97, 0.0, 0.0, 0.0, 0.02, 0.0, 0.03]\n",
      "4 [0.0, 0.02, 0.01, 0.0, 0.98, 0.0, 0.0, 0.0, 0.0, 0.0]\n",
      "5 [0.0, 0.0, 0.02, 0.0, 0.0, 0.96, 0.01, 0.0, 0.02, 0.01]\n",
      "6 [0.0, 0.0, 0.01, 0.0, 0.01, 0.01, 0.99, 0.0, 0.0, 0.0]\n",
      "7 [0.02, 0.0, 0.0, 0.02, 0.0, 0.0, 0.0, 0.97, 0.0, 0.0]\n",
      "8 [0.04, 0.0, 0.0, 0.0, 0.0, 0.02, 0.0, 0.0, 0.96, 0.03]\n",
      "9 [0.0, 0.0, 0.0, 0.01, 0.0, 0.02, 0.0, 0.0, 0.03, 0.95]\n",
      ".@@@.\n",
      "...@@\n",
      "..@@.\n",
      "...@@\n",
      ".@@@.\n",
      "[0.0, 0.01, 0.0, 0.97, 0.0, 0.0, 0.0, 0.01, 0.0, 0.1]\n",
      "\n",
      ".@@@.\n",
      "@..@@\n",
      ".@@@.\n",
      "@..@@\n",
      ".@@@.\n",
      "[0.0, 0.0, 0.0, 0.0, 0.0, 0.58, 0.0, 0.0, 0.96, 1.0]\n"
     ]
    }
   ],
   "source": [
    "for i, input in enumerate(inputs):\n",
    "    outputs = predict(input)\n",
    "    print(i, [round(p,2) for p in outputs])\n",
    "\n",
    "print(\"\"\".@@@.\n",
    "...@@\n",
    "..@@.\n",
    "...@@\n",
    ".@@@.\"\"\")\n",
    "print([round(x, 2) for x in\n",
    "      predict(  [0,1,1,1,0,    # .@@@.\n",
    "                 0,0,0,1,1,    # ...@@\n",
    "                 0,0,1,1,0,    # ..@@.\n",
    "                 0,0,0,1,1,    # ...@@\n",
    "                 0,1,1,1,0])]) # .@@@.\n",
    "print()\n",
    "\n",
    "print(\"\"\".@@@.\n",
    "@..@@\n",
    ".@@@.\n",
    "@..@@\n",
    ".@@@.\"\"\")\n",
    "print([round(x, 2) for x in\n",
    "      predict(  [0,1,1,1,0,    # .@@@.\n",
    "                 1,0,0,1,1,    # @..@@\n",
    "                 0,1,1,1,0,    # .@@@.\n",
    "                 1,0,0,1,1,    # @..@@\n",
    "                 0,1,1,1,0])]) # .@@@."
   ]
  },
  {
   "cell_type": "code",
   "execution_count": 20,
   "metadata": {},
   "outputs": [
    {
     "data": {
      "image/png": "[encoded data removed]",
      "text/plain": [
       "<Figure size 432x288 with 1 Axes>"
      ]
     },
     "metadata": {},
     "output_type": "display_data"
    },
    {
     "data": {
      "image/png": "[encoded data removed]",
      "text/plain": [
       "<Figure size 432x288 with 1 Axes>"
      ]
     },
     "metadata": {},
     "output_type": "display_data"
    },
    {
     "data": {
      "image/png": "[encoded data removed]",
      "text/plain": [
       "<Figure size 432x288 with 1 Axes>"
      ]
     },
     "metadata": {},
     "output_type": "display_data"
    },
    {
     "data": {
      "image/png": "[encoded data removed]",
      "text/plain": [
       "<Figure size 432x288 with 1 Axes>"
      ]
     },
     "metadata": {},
     "output_type": "display_data"
    }
   ],
   "source": [
    "def patch(x, y, hatch, color):\n",
    "    \"\"\"return a matplotlib 'patch' object with the specified\n",
    "    location, crosshatch pattern, and color\"\"\"\n",
    "    return matplotlib.patches.Rectangle((x - 0.5, y - 0.5), 1, 1,\n",
    "                                        hatch=hatch, fill=False, color=color)\n",
    "\n",
    "def show_weights(neuron_idx):\n",
    "    weights = network[0][neuron_idx]\n",
    "    abs_weights = [abs(weight) for weight in weights]\n",
    "\n",
    "    grid = [abs_weights[row:(row+5)] # turn the weights into a 5x5 grid\n",
    "            for row in range(0,25,5)] # [weights[0:5], ..., weights[20:25]]\n",
    "\n",
    "    ax = plt.gca() # to use hatching, we'll need the axis\n",
    "\n",
    "    ax.imshow(grid, # here same as plt.imshow\n",
    "              cmap=matplotlib.cm.binary, # use white-black color scale\n",
    "              interpolation='none') # plot blocks as blocks\n",
    "\n",
    "    # cross-hatch the negative weights\n",
    "    for i in range(5): # row\n",
    "        for j in range(5): # column\n",
    "            if weights[5*i + j] < 0: # row i, column j = weights[5*i + j]\n",
    "                # add black and white hatches, so visible whether dark or light\n",
    "                ax.add_patch(patch(j, i, '/', \"white\"))\n",
    "                ax.add_patch(patch(j, i, '\\\\', \"black\"))\n",
    "    plt.show()\n",
    "    \n",
    "show_weights(0)\n",
    "show_weights(1)\n",
    "show_weights(2)\n",
    "show_weights(3)"
   ]
  },
  {
   "cell_type": "markdown",
   "metadata": {},
   "source": [
    "We see the first hidden neuron has large positive weights in the left column and in the center of the middle row, while it has large negative weights in the right column.  On those inputs, it does what you'd expect:"
   ]
  },
  {
   "cell_type": "code",
   "execution_count": 21,
   "metadata": {},
   "outputs": [
    {
     "name": "stdout",
     "output_type": "stream",
     "text": [
      "0.9999891931095952\n",
      "0.007128731038157492\n",
      "[[1.2885453726823725e-09, 0.9689434353613953, 0.0014204929460003945, 0.9831123286718932, 3.694766808960256e-05], [0.15184726081855648, 1.977719860654913e-06, 1.1719495168352514e-11, 0.007084473598436873, 0.002042164504235355, 2.8408705017464553e-10, 1.3086865586678795e-07, 0.9866434205668683, 8.815605117295454e-09, 2.5873730366856654e-09]]\n"
     ]
    }
   ],
   "source": [
    "left_column_only = [1, 0, 0, 0, 0] * 5\n",
    "print(feed_forward(network, left_column_only)[0][0])\n",
    "\n",
    "center_middle_row = [0, 0, 0, 0, 0] * 5\n",
    "print(feed_forward(network, center_middle_row)[0][0])\n",
    "\n",
    "right_column_only = [0, 0, 0, 0, 1] * 5\n",
    "print(feed_forward(network, right_column_only))"
   ]
  },
  {
   "cell_type": "markdown",
   "metadata": {},
   "source": []
  }
 ],
 "metadata": {
  "kernelspec": {
   "display_name": "Python 3",
   "language": "python",
   "name": "python3"
  },
  "language_info": {
   "codemirror_mode": {
    "name": "ipython",
    "version": 3
   },
   "file_extension": ".py",
   "mimetype": "text/x-python",
   "name": "python",
   "nbconvert_exporter": "python",
   "pygments_lexer": "ipython3",
   "version": "3.6.5"
  }
 },
 "nbformat": 4,
 "nbformat_minor": 2
}
