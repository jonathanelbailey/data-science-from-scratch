{
 "cells": [
  {
   "cell_type": "markdown",
   "metadata": {},
   "source": [
    "# Clustering"
   ]
  },
  {
   "cell_type": "markdown",
   "metadata": {},
   "source": [
    "While other methods of machine learning are *supervised* -- meaning they begin with a set of labeled data -- clustering is an example of unsupervised learning, meaning that it begins with a set of unlabeled data.  Data will almost always form clusters.  A data set showing where millionaires live probably has clusters in places like Beverly Hills and Manhatten.  There is generally no \"correct\" clustering.  Also, clusters don't label themselves.  You'll need to do that by looking at the underlying data for each one.\n",
    "\n",
    "For us, each `input` will be a vector in d-dimensional space, which we will represent as a list of numbers.  Our goal will be to identify clusters of similar inputs and to find a representative value for each cluster.  For example, each input could be a numeric vector that somehow represents the title of a blog post, in which case the goal might be to find clusters of similar posts, perhaps in order to understand what our users are blogging about.  One of the simplest clustering methods is *k-means*, in which the number of clusters `k` is chosen in advance, after which the goal is to partition the inputs into sets $ S_i, ..., S_k $ in a way that minimizes the total sum of squared distances from each point to the mean of its assigned cluster.\n",
    "\n",
    "There are lots of ways to assign *n* points to *k* clusters, which means that finding an optimal clustering is a very hard problem.  We'll settle for an iterative algorithm that usually finds a good clustering:\n",
    "\n",
    "1. Start with a set of *k-means*, which are points in d-dimensional space.\n",
    "2. ASsign each point to the mean to which it is closest.\n",
    "3. If no point's assignment has changed, stop and keep the clusters.\n",
    "4. If some point's assignment has changed, recompute the means and return to step 2.\n",
    "\n",
    "Using the `vector_mean` function, it's pretty simple to create a class that does this:"
   ]
  },
  {
   "cell_type": "code",
   "execution_count": 1,
   "metadata": {},
   "outputs": [],
   "source": [
    "from code_python3.linear_algebra import squared_distance, vector_mean, distance\n",
    "import math, random\n",
    "import matplotlib.image as mpimg\n",
    "import matplotlib.pyplot as plt\n",
    "\n",
    "class KMeans:\n",
    "    \"\"\"performs k-means clustering\"\"\"\n",
    "\n",
    "    def __init__(self, k):\n",
    "        self.k = k          # number of clusters\n",
    "        self.means = None   # means of clusters\n",
    "\n",
    "    def classify(self, input):\n",
    "        \"\"\"return the index of the cluster closest to the input\"\"\"\n",
    "        return min(range(self.k),\n",
    "                   key=lambda i: squared_distance(input, self.means[i]))\n",
    "\n",
    "    def train(self, inputs):\n",
    "\n",
    "        self.means = random.sample(inputs, self.k)\n",
    "        assignments = None\n",
    "\n",
    "        while True:\n",
    "            # Find new assignments\n",
    "            new_assignments = list(map(self.classify, inputs))\n",
    "\n",
    "            # If no assignments have changed, we're done.\n",
    "            if assignments == new_assignments:\n",
    "                return\n",
    "\n",
    "            # Otherwise keep the new assignments,\n",
    "            assignments = new_assignments\n",
    "\n",
    "            for i in range(self.k):\n",
    "                i_points = [p for p, a in zip(inputs, assignments) if a == i]\n",
    "                # avoid divide-by-zero if i_points is empty\n",
    "                if i_points:\n",
    "                    self.means[i] = vector_mean(i_points)"
   ]
  },
  {
   "cell_type": "markdown",
   "metadata": {},
   "source": [
    "Let's take a look at how this works.  Let's take the meetup example:"
   ]
  },
  {
   "cell_type": "code",
   "execution_count": 3,
   "metadata": {},
   "outputs": [
    {
     "name": "stdout",
     "output_type": "stream",
     "text": [
      "3-means:\n",
      "[[-25.857142857142854, -4.714285714285714], [20.0, 26.0], [16.666666666666664, 13.666666666666666]]\n"
     ]
    }
   ],
   "source": [
    "inputs = [[-14,-5],[13,13],[20,23],[-19,-11],[-9,-16],[21,27],[-49,15],[26,13],[-46,5],[-34,-1],[11,15],[-49,0],[-22,-16],[19,28],[-12,-8],[-13,-19],[-41,8],[-11,-6],[-25,-9],[-18,-3]]\n",
    "\n",
    "random.seed(0) # so you get the same results as me\n",
    "clusterer = KMeans(3)\n",
    "clusterer.train(inputs)\n",
    "print(\"3-means:\")\n",
    "print(clusterer.means)"
   ]
  },
  {
   "cell_type": "markdown",
   "metadata": {},
   "source": [
    "We find three clusters, and it allows you to look for meetup venues centered around those locations.  If we take a look at two meetups:"
   ]
  },
  {
   "cell_type": "code",
   "execution_count": 4,
   "metadata": {},
   "outputs": [
    {
     "name": "stdout",
     "output_type": "stream",
     "text": [
      "2-means:\n",
      "[[-25.857142857142854, -4.714285714285714], [18.333333333333332, 19.833333333333332]]\n",
      "\n"
     ]
    }
   ],
   "source": [
    "random.seed(0)\n",
    "clusterer = KMeans(2)\n",
    "clusterer.train(inputs)\n",
    "print(\"2-means:\")\n",
    "print(clusterer.means)\n",
    "print()"
   ]
  },
  {
   "cell_type": "markdown",
   "metadata": {},
   "source": [
    "In the previous example, the choice of *k* was driven by factors outside of our control.  In general, this won't be the case.  There is a wide variety of ways to choose a *k*.  One that's reasonably easy to understand involves plotting the sum of squared errors between each point and the mean of its cluster as a function of *k* and looking at where the graph \"bends\":"
   ]
  },
  {
   "cell_type": "code",
   "execution_count": 5,
   "metadata": {},
   "outputs": [
    {
     "data": {
      "image/png": "[encoded data removed]",
      "text/plain": [
       "<Figure size 432x288 with 1 Axes>"
      ]
     },
     "metadata": {},
     "output_type": "display_data"
    }
   ],
   "source": [
    "def squared_clustering_errors(inputs, k):\n",
    "    \"\"\"finds the total squared error from k-means clustering the inputs\"\"\"\n",
    "    clusterer = KMeans(k)\n",
    "    clusterer.train(inputs)\n",
    "    means = clusterer.means\n",
    "    assignments = list(map(clusterer.classify, inputs))\n",
    "\n",
    "    return sum(squared_distance(input,means[cluster])\n",
    "               for input, cluster in zip(inputs, assignments))\n",
    "\n",
    "def plot_squared_clustering_errors():\n",
    "\n",
    "    ks = range(1, len(inputs) + 1)\n",
    "    errors = [squared_clustering_errors(inputs, k) for k in ks]\n",
    "\n",
    "    plt.plot(ks, errors)\n",
    "    plt.xticks(ks)\n",
    "    plt.xlabel(\"k\")\n",
    "    plt.ylabel(\"total squared error\")\n",
    "    plt.show()\n",
    "    \n",
    "plot_squared_clustering_errors()"
   ]
  },
  {
   "cell_type": "markdown",
   "metadata": {},
   "source": [
    "This method agrees with our original eyeballing that 3 is the \"right\" number of clusters.  Another example of clustering can determine the optimal number of colors to display when generating images.  They can be represented as a two-dimensional array of pixels, where each pixel is itself a three-dimensional vector indicating its color.\n",
    "\n",
    "Creating a five-color version of the image then entails:\n",
    "\n",
    "1. Choosing five colors\n",
    "2. ASsigning one of those colors to each pixel\n",
    "\n",
    "It turns out this is a great taks for k-means clustering, which can partition the pixels into five clusters in red-green-blue space.  If we then recolor the pixels in each cluster to the mean color, we're done.  To start with, we'll need a way to load an image into Python.  It turns out we can do this with `matplotlib`:"
   ]
  },
  {
   "cell_type": "code",
   "execution_count": 16,
   "metadata": {},
   "outputs": [
    {
     "data": {
      "image/png": "[encoded data removed]",
      "text/plain": [
       "<Figure size 432x288 with 1 Axes>"
      ]
     },
     "metadata": {},
     "output_type": "display_data"
    }
   ],
   "source": [
    "def recolor_image(input_file, k=5):\n",
    "    '''\n",
    "    input_file: takes a png file.  the jpeg file that was used was large so it could have been too large for the\n",
    "    function to process.\n",
    "    '''\n",
    "    img = mpimg.imread(input_file)\n",
    "    pixels = [pixel for row in img for pixel in row]\n",
    "    clusterer = KMeans(k)\n",
    "    clusterer.train(pixels) # this might take a while\n",
    "\n",
    "    def recolor(pixel):\n",
    "        cluster = clusterer.classify(pixel) # index of the closest cluster\n",
    "        return clusterer.means[cluster]     # mean of the closest cluster\n",
    "\n",
    "    new_img = [[recolor(pixel) for pixel in row]\n",
    "               for row in img]\n",
    "\n",
    "    plt.imshow(new_img)\n",
    "    plt.axis('off')\n",
    "    plt.show()\n",
    "    \n",
    "recolor_image(input_file=\"/home/jovyan/work/EBSCO_Information_Services_logo.png\", k=5)"
   ]
  },
  {
   "cell_type": "markdown",
   "metadata": {},
   "source": [
    "An alternative to clustering is to \"grow\" clusters from the bottom up.  We ca do this in the following way:\n",
    "\n",
    "1. MAke each input its own cluster of one.\n",
    "2. As long as there are multiple clusters remaining, find the two closest clusters and merge them.\n",
    "\n",
    "At the wend, we'll have one giant cluster containing all the inputs.  If we keep track of the merge order, we can recreate any number of clusters by unmerging.  For example, if we want three clusters, we can just undo the last two merges.  We'll use a really simple representation of clusters.  Our values will live in *leaf* clusters, which we will represent as 1-tuples:"
   ]
  },
  {
   "cell_type": "code",
   "execution_count": 17,
   "metadata": {},
   "outputs": [],
   "source": [
    "leaf1 = ([10, 20],) # to make a 1-tuple you need the trailing comma\n",
    "leaf2 = ([30, -15],) # otherwise Python treats the parentheses as parentheses"
   ]
  },
  {
   "cell_type": "markdown",
   "metadata": {},
   "source": [
    "We'll use these to grow merged clusters, which we will represent as 2-tuples (merge order, children):"
   ]
  },
  {
   "cell_type": "code",
   "execution_count": 19,
   "metadata": {},
   "outputs": [],
   "source": [
    "merged = (1, [leaf1, leaf2])"
   ]
  },
  {
   "cell_type": "markdown",
   "metadata": {},
   "source": [
    "We'll talk about merge order in a bit, but first let's create a few helper functions:"
   ]
  },
  {
   "cell_type": "code",
   "execution_count": 20,
   "metadata": {},
   "outputs": [],
   "source": [
    "def is_leaf(cluster):\n",
    "    \"\"\"a cluster is a leaf if it has length 1\"\"\"\n",
    "    return len(cluster) == 1\n",
    "\n",
    "def get_children(cluster):\n",
    "    \"\"\"returns the two children of this cluster if it's a merged cluster;\n",
    "    raises an exception if this is a leaf cluster\"\"\"\n",
    "    if is_leaf(cluster):\n",
    "        raise TypeError(\"a leaf cluster has no children\")\n",
    "    else:\n",
    "        return cluster[1]\n",
    "\n",
    "def get_values(cluster):\n",
    "    \"\"\"returns the value in this cluster (if it's a leaf cluster)\n",
    "    or all the values in the leaf clusters below it (if it's not)\"\"\"\n",
    "    if is_leaf(cluster):\n",
    "        return cluster # is already a 1-tuple containing value\n",
    "    else:\n",
    "        return [value\n",
    "                for child in get_children(cluster)\n",
    "                for value in get_values(child)]"
   ]
  },
  {
   "cell_type": "markdown",
   "metadata": {},
   "source": [
    "In order to merge the closest clusters, we need some notion of the distance between clusters.  We'll use the minimum distance between elements of the two clusters, which merges the two clusters that are closest to touching (but will sometimes produce large chain-=like clusters that aren't very tight).  If we wanted tight spherical clusters, we might use the maximum distance instead, as it merges the two clusters that fit in the smallest ball.  Both are common choices, as is the average distance:"
   ]
  },
  {
   "cell_type": "code",
   "execution_count": 21,
   "metadata": {},
   "outputs": [],
   "source": [
    "def cluster_distance(cluster1, cluster2, distance_agg=min):\n",
    "    \"\"\"finds the aggregate distance between elements of cluster1\n",
    "    and elements of cluster2\"\"\"\n",
    "    return distance_agg([distance(input1, input2)\n",
    "                        for input1 in get_values(cluster1)\n",
    "                        for input2 in get_values(cluster2)])"
   ]
  },
  {
   "cell_type": "markdown",
   "metadata": {},
   "source": [
    "We'll use the merge order slot to track the order in which we did the merging.  Smaller numbers will represent later merges.  This means when we want to unmerge clusters, we do so from lowest merge order to highest.  Since leaf clusters were never merged, which means we never want to unmerge them, we'll assign them infinity:"
   ]
  },
  {
   "cell_type": "code",
   "execution_count": 22,
   "metadata": {},
   "outputs": [],
   "source": [
    "def get_merge_order(cluster):\n",
    "    if is_leaf(cluster):\n",
    "        return float('inf')\n",
    "    else:\n",
    "        return cluster[0] # merge_order is first element of 2-tuple"
   ]
  },
  {
   "cell_type": "markdown",
   "metadata": {},
   "source": [
    "Now we're ready to create the clustering algorithm:"
   ]
  },
  {
   "cell_type": "code",
   "execution_count": 24,
   "metadata": {},
   "outputs": [],
   "source": [
    "def bottom_up_cluster(inputs, distance_agg=min):\n",
    "    # start with every input a leaf cluster / 1-tuple\n",
    "    clusters = [(input,) for input in inputs]\n",
    "\n",
    "    # as long as we have more than one cluster left...\n",
    "    while len(clusters) > 1:\n",
    "        # find the two closest clusters\n",
    "        c1, c2 = min([(cluster1, cluster2)\n",
    "                     for i, cluster1 in enumerate(clusters)\n",
    "                     for cluster2 in clusters[:i]],\n",
    "                     key=lambda p: cluster_distance(p[0], p[1], distance_agg))\n",
    "\n",
    "        # remove them from the list of clusters\n",
    "        clusters = [c for c in clusters if c != c1 and c != c2]\n",
    "\n",
    "        # merge them, using merge_order = # of clusters left\n",
    "        merged_cluster = (len(clusters), [c1, c2])\n",
    "\n",
    "        # and add their merge\n",
    "        clusters.append(merged_cluster)\n",
    "\n",
    "    # when there's only one cluster left, return it\n",
    "    return clusters[0]"
   ]
  },
  {
   "cell_type": "markdown",
   "metadata": {},
   "source": [
    "Its use is very simple:"
   ]
  },
  {
   "cell_type": "code",
   "execution_count": 25,
   "metadata": {},
   "outputs": [
    {
     "name": "stdout",
     "output_type": "stream",
     "text": [
      "(0, [(1, [(3, [(14, [(18, [([19, 28],), ([21, 27],)]), ([20, 23],)]), ([26, 13],)]), (16, [([11, 15],), ([13, 13],)])]), (2, [(4, [(5, [(9, [(11, [([-49, 0],), ([-46, 5],)]), ([-41, 8],)]), ([-49, 15],)]), ([-34, -1],)]), (6, [(7, [(8, [(10, [([-22, -16],), ([-19, -11],)]), ([-25, -9],)]), (13, [(15, [(17, [([-11, -6],), ([-12, -8],)]), ([-14, -5],)]), ([-18, -3],)])]), (12, [([-13, -19],), ([-9, -16],)])])])])\n"
     ]
    }
   ],
   "source": [
    "base_cluster = bottom_up_cluster(inputs)\n",
    "print(base_cluster)"
   ]
  },
  {
   "cell_type": "markdown",
   "metadata": {},
   "source": [
    "For every merged cluster, if we say \"cluster 0\" for the cluster with merge order 0, you can interpret this as:\n",
    "\n",
    "- Cluster 0 is the merger of cluster 1 and cluster 2.\n",
    "- Cluster 1 is the merger of cluster 3 and cluster 16.\n",
    "- Cluster 16 is the merger of the leaf `[11, 15]` and the leaf `[13, 13]`.\n",
    "- And so on...\n",
    "\n",
    "Since we had 20 inputs, it took 19 merges to get to this one cluster.  The first merge created cluster 18 by combining the leaves `[19, 28]` and `[21, 27]`.  Abd the last merge created cluster 0.  Generally, we don't want to be squinting at nasty text representations like this:"
   ]
  },
  {
   "cell_type": "code",
   "execution_count": 27,
   "metadata": {},
   "outputs": [
    {
     "data": {
      "image/png": "[encoded data removed]",
      "text/plain": [
       "<Figure size 432x288 with 1 Axes>"
      ]
     },
     "metadata": {},
     "output_type": "display_data"
    }
   ],
   "source": [
    "def generate_clusters(base_cluster, num_clusters):\n",
    "    # start with a list with just the base cluster\n",
    "    clusters = [base_cluster]\n",
    "\n",
    "    # as long as we don't have enough clusters yet...\n",
    "    while len(clusters) < num_clusters:\n",
    "        # choose the last-merged of our clusters\n",
    "        next_cluster = min(clusters, key=get_merge_order)\n",
    "        # remove it from the list\n",
    "        clusters = [c for c in clusters if c != next_cluster]\n",
    "        # and add its children to the list (i.e., unmerge it)\n",
    "        clusters.extend(get_children(next_cluster))\n",
    "\n",
    "    # once we have enough clusters...\n",
    "    return clusters\n",
    "\n",
    "three_clusters = [get_values(cluster) for cluster in generate_clusters(base_cluster, 3)]\n",
    "for i, cluster, marker, color in zip([1, 2, 3], three_clusters, ['D', 'o', '*'], ['r', 'g', 'b']):\n",
    "    xs, ys = zip(*cluster) # magic unzipping trick\n",
    "    plt.scatter(xs, ys, color=color, marker=marker)\n",
    "    \n",
    "    # put a number at the mean of the cluster\n",
    "    x, y = vector_mean(cluster)\n",
    "    plt.plot(x, y, marker='$' + str(i) + '$', color='black')\n",
    "\n",
    "plt.title(\"User Locations -- 3 Bottom-Up Clusters, Min\")\n",
    "plt.xlabel(\"blocks east of city center\")\n",
    "plt.ylabel(\"blocks north of city center\")\n",
    "plt.show()"
   ]
  },
  {
   "cell_type": "markdown",
   "metadata": {},
   "source": [
    "This gives very different results than k-means did.  As we mentioned above this is because using `min` in `cluster_distances` tends to give chain-like clusters.  If we instead use `max` (which gives tight clusters) it looks the same as the 3-means result."
   ]
  },
  {
   "cell_type": "code",
   "execution_count": null,
   "metadata": {},
   "outputs": [],
   "source": []
  }
 ],
 "metadata": {
  "kernelspec": {
   "display_name": "Python 3",
   "language": "python",
   "name": "python3"
  },
  "language_info": {
   "codemirror_mode": {
    "name": "ipython",
    "version": 3
   },
   "file_extension": ".py",
   "mimetype": "text/x-python",
   "name": "python",
   "nbconvert_exporter": "python",
   "pygments_lexer": "ipython3",
   "version": "3.6.5"
  }
 },
 "nbformat": 4,
 "nbformat_minor": 2
}
